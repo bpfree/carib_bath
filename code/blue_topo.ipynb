{
 "cells": [
  {
   "cell_type": "code",
   "execution_count": null,
   "metadata": {},
   "outputs": [],
   "source": [
    "# connect to the bluetopo package and import the function fetch_tiles\n",
    "## this will allow for downloading the tiles\n",
    "from nbs.bluetopo import fetch_tiles\n",
    "\n",
    "# fetch tiles to the exploratory data and use the boundary within the geopackage to limit which tiles get grabbed\n",
    "fetch_tiles(r'/Users/Brian/Documents/Personal/Jobs/Past/CSS/NOAA/carib_bath/data/a_exploratory_data', '/Users/Brian/Documents/Personal/Jobs/Past/CSS/NOAA/carib_bath/data/a_exploratory_data/eez.gpkg')\n",
    "\n",
    "# build VRT\n",
    "from nbs.bluetopo import build_vrt\n",
    "\n",
    "# download VRT to the exploratory data sub-directory\n",
    "build_vrt(r'/Users/Brian/Documents/Personal/Jobs/Past/CSS/NOAA/carib_bath/data/a_exploratory_data')"
   ]
  }
 ],
 "metadata": {
  "kernelspec": {
   "display_name": "bluetopo_env",
   "language": "python",
   "name": "python3"
  },
  "language_info": {
   "codemirror_mode": {
    "name": "ipython",
    "version": 3
   },
   "file_extension": ".py",
   "mimetype": "text/x-python",
   "name": "python",
   "nbconvert_exporter": "python",
   "pygments_lexer": "ipython3",
   "version": "3.13.0"
  }
 },
 "nbformat": 4,
 "nbformat_minor": 2
}
