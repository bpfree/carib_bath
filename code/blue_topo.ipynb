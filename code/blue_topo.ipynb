{
 "cells": [
  {
   "cell_type": "code",
   "execution_count": null,
   "metadata": {},
   "outputs": [
    {
     "name": "stdout",
     "output_type": "stream",
     "text": [
      "[2024-11-12 14:08:07 EST] BlueTopo: Beginning work in project folder: /Users/Brian/Documents/Personal/Jobs/Past/CSS/NOAA/carib_bath/data/a_exploratory_data\n",
      "[2024-11-12 14:08:08 EST] BlueTopo: Downloaded BlueTopo_Tile_Scheme_20241106_085436.gpkg\n",
      "\n",
      "Tracking 228 available BlueTopo tile(s) discovered in a total of 231 intersected tile(s) with given polygon.\n",
      "\n",
      "Resolving fetch list...\n",
      "0 tile(s) with new data\n",
      "0 tile(s) already downloaded are missing locally\n",
      "\n",
      "___________________________________ SUMMARY ___________________________________\n",
      "\n",
      "Existing:\n",
      "Number of tiles already existing locally without updates: 228\n",
      "\n",
      "[2024-11-12 14:08:10 EST] BlueTopo: Operation complete after 0:00:03.164525\n",
      "[2024-11-12 14:08:10 EST] BlueTopo: Beginning work in project folder: /Users/Brian/Documents/Personal/Jobs/Past/CSS/NOAA/carib_bath/data/a_exploratory_data\n",
      "\n",
      "Subregion vrt(s) appear up to date with the most recently fetched tiles.\n",
      "UTM vrt(s) appear up to date with the most recently fetched tiles.\n",
      "Note: deleting the BlueTopo_VRT folder will allow you to recreate from scratch if necessary\n",
      "[2024-11-12 14:08:10 EST] BlueTopo: Operation complete after 0:00:00.000568\n"
     ]
    }
   ],
   "source": [
    "# connect to the bluetopo package and import the function fetch_tiles\n",
    "## this will allow for downloading the tiles\n",
    "from nbs.bluetopo import fetch_tiles\n",
    "\n",
    "# fetch tiles to the exploratory data and use the boundary within the geopackage to limit which tiles get grabbed\n",
    "fetch_tiles(r'/Users/Brian/Documents/Personal/Jobs/Past/CSS/NOAA/carib_bath/data/a_exploratory_data', '/Users/Brian/Documents/Personal/Jobs/Past/CSS/NOAA/carib_bath/data/a_exploratory_data/eez.gpkg')\n",
    "\n",
    "# build VRT\n",
    "from nbs.bluetopo import build_vrt\n",
    "\n",
    "# download VRT to the exploratory data sub-directory\n",
    "build_vrt(r'/Users/Brian/Documents/Personal/Jobs/Past/CSS/NOAA/carib_bath/data/a_exploratory_data')"
   ]
  }
 ],
 "metadata": {
  "kernelspec": {
   "display_name": "bluetopo_env",
   "language": "python",
   "name": "python3"
  },
  "language_info": {
   "codemirror_mode": {
    "name": "ipython",
    "version": 3
   },
   "file_extension": ".py",
   "mimetype": "text/x-python",
   "name": "python",
   "nbconvert_exporter": "python",
   "pygments_lexer": "ipython3",
   "version": "3.13.0"
  }
 },
 "nbformat": 4,
 "nbformat_minor": 2
}
