{
 "cells": [
  {
   "cell_type": "code",
   "execution_count": null,
   "metadata": {},
   "outputs": [
    {
     "name": "stdout",
     "output_type": "stream",
     "text": [
      "[2024-11-07 15:58:53 EST] BlueTopo: Beginning work in project folder: /Users/Brian/Documents/Personal/Jobs/Past/CSS/NOAA/carib_bath/data/a_exploratory_data\n",
      "[2024-11-07 15:58:53 EST] BlueTopo: Downloaded BlueTopo_Tile_Scheme_20241106_085436.gpkg\n",
      "\n",
      "Tracking 228 available BlueTopo tile(s) discovered in a total of 231 intersected tile(s) with given polygon.\n",
      "\n",
      "Resolving fetch list...\n",
      "0 tile(s) with new data\n",
      "0 tile(s) already downloaded are missing locally\n",
      "\n",
      "___________________________________ SUMMARY ___________________________________\n",
      "\n",
      "Existing:\n",
      "Number of tiles already existing locally without updates: 228\n",
      "\n",
      "[2024-11-07 15:58:55 EST] BlueTopo: Operation complete after 0:00:02.611720\n",
      "[2024-11-07 15:58:55 EST] BlueTopo: Beginning work in project folder: /Users/Brian/Documents/Personal/Jobs/Past/CSS/NOAA/carib_bath/data/a_exploratory_data\n",
      "\n",
      "Building 8 subregion vrt(s). This may take minutes or hours depending on the amount of tiles.\n",
      "Building BC26K26D band 8m...\n",
      "Building BC26K26D band 4m...\n",
      "Building BC26K26D band 16m...\n",
      "Building BC26J26D band 4m...\n",
      "Building BC26J26D band 16m...\n",
      "Building BC26J26D band 8m...\n",
      "Building BC26K26C band 16m...\n",
      "Building BC26K26C band 8m...\n",
      "Building BC26K26C band 4m...\n",
      "Building BC26L26D band 8m...\n",
      "Building BC26L26D band 4m...\n",
      "Building BC26H26C band 16m...\n",
      "Building BC26H26C band 8m...\n",
      "Building BC26H26C band 4m...\n",
      "Building BC26J26C band 4m...\n",
      "Building BC26J26C band 16m...\n",
      "Building BC26J26C band 8m...\n",
      "Building BC26L26C band 8m...\n",
      "Building BC26L26C band 4m...\n",
      "Building BC26H26D band 16m...\n",
      "Building BC26H26D band 8m...\n",
      "Building BC26H26D band 4m...\n",
      "Building 2 utm vrt(s). This may take minutes or hours depending on the amount of tiles.\n",
      "Building utm20...\n",
      "utm20 complete after 0:00:37.079498\n",
      "Building utm19...\n",
      "utm19 complete after 0:00:38.034202\n",
      "[2024-11-07 16:01:29 EST] BlueTopo: Operation complete after 0:02:33.252170\n"
     ]
    }
   ],
   "source": [
    "# connect to the bluetopo package and import the function fetch_tiles\n",
    "## this will allow for downloading the tiles\n",
    "from nbs.bluetopo import fetch_tiles\n",
    "\n",
    "# fetch tiles to the exploratory data and use the boundary within the geopackage to limit which tiles get grabbed\n",
    "fetch_tiles(r'/Users/Brian/Documents/Personal/Jobs/Past/CSS/NOAA/carib_bath/data/a_exploratory_data', '/Users/Brian/Documents/Personal/Jobs/Past/CSS/NOAA/carib_bath/data/a_exploratory_data/eez2.gpkg')\n",
    "\n",
    "# build VRT\n",
    "from nbs.bluetopo import build_vrt\n",
    "\n",
    "# download VRT to the exploratory data sub-directory\n",
    "build_vrt(r'/Users/Brian/Documents/Personal/Jobs/Past/CSS/NOAA/carib_bath/data/a_exploratory_data')"
   ]
  }
 ],
 "metadata": {
  "kernelspec": {
   "display_name": "bluetopo_env",
   "language": "python",
   "name": "python3"
  },
  "language_info": {
   "codemirror_mode": {
    "name": "ipython",
    "version": 3
   },
   "file_extension": ".py",
   "mimetype": "text/x-python",
   "name": "python",
   "nbconvert_exporter": "python",
   "pygments_lexer": "ipython3",
   "version": "3.13.0"
  }
 },
 "nbformat": 4,
 "nbformat_minor": 2
}
